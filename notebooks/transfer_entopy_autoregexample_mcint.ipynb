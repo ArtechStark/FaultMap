{
 "metadata": {
  "name": "transfer_entopy_autoregexample_mcint"
 },
 "nbformat": 3,
 "nbformat_minor": 0,
 "worksheets": [
  {
   "cells": [
    {
     "cell_type": "code",
     "collapsed": false,
     "input": [
      "import mcint\n",
      "import random\n",
      "import itertools\n",
      "#import math\n",
      "from scipy import stats\n",
      "#from scipy import integrate\n",
      "import numpy as np\n",
      "from numpy import vstack"
     ],
     "language": "python",
     "metadata": {},
     "outputs": [],
     "prompt_number": 271
    },
    {
     "cell_type": "code",
     "collapsed": false,
     "input": [
      "def autogen(samples, delay):\n",
      "    \"\"\"Generate an autoregressive set of vectors.\"\"\"\n",
      "\n",
      "    source = np.random.randn(samples + delay + 1)\n",
      "    pred = np.zeros_like(source)\n",
      "    # Very close covariance occassionally breaks the kde estimator\n",
      "    # Another small random element is added to take care of this\n",
      "    # This is not expected to be a problem on any \"real\" data\n",
      "    pred_random_add = np.random.rand(samples + delay + 1)\n",
      "\n",
      "    for i in range(delay, len(source)):\n",
      "        pred[i] = pred[i - 1] + source[i - delay]\n",
      "\n",
      "    pred = pred[delay:-1]\n",
      "    source = source[delay:-1]\n",
      "    \n",
      "    pred = pred + pred_random_add[delay:-1]\n",
      "\n",
      "    data = vstack([pred, source])\n",
      "\n",
      "    return data"
     ],
     "language": "python",
     "metadata": {},
     "outputs": [],
     "prompt_number": 272
    },
    {
     "cell_type": "code",
     "collapsed": false,
     "input": [
      "def vectorselection(data, timelag, sub_samples, k=1, l=1):\n",
      "    \"\"\"Generates sets of vectors for calculating transfer entropy.\n",
      "\n",
      "    For notation references see Shu2013.\n",
      "\n",
      "    Takes into account the time lag (number of samples between vectors of the\n",
      "    same variable).\n",
      "\n",
      "    In this application the prediction horizon (h) is set to equal\n",
      "    to the time lag.\n",
      "\n",
      "    The first vector in the data array should be the samples of the variable\n",
      "    to be predicted (x) while the second vector should be sampled of the vector\n",
      "    used to make the prediction (y).\n",
      "\n",
      "    sub_samples is the amount of samples in the dataset used to calculate the\n",
      "    transfer entropy between two vectors.\n",
      "    The required number of samples is extracted from the end of the vector.\n",
      "    If the vector is longer than the number of samples specified plus the\n",
      "    desired time lag then the remained of the data will be discarded.\n",
      "    sub_samples <= samples\n",
      "\n",
      "\n",
      "    k refers to the dimension of the historical data to be predicted (x)\n",
      "\n",
      "    l refers to the dimension of the historical data used\n",
      "    to do the prediction (y)\n",
      "\n",
      "    \"\"\"\n",
      "    _, sample_n = data.shape\n",
      "    x_pred = data[0, sample_n-sub_samples-1:-1]\n",
      "\n",
      "    x_hist = np.zeros((k, sub_samples))\n",
      "    y_hist = np.zeros((l, sub_samples))\n",
      "\n",
      "    for n in range(1, (k+1)):\n",
      "        # Original form according to Bauer (2007)\n",
      "#        x_hist[n-1, :] = data[0, ((sample_n - samples) - timelag * n):\n",
      "#                               (sample_n - timelag * n)]\n",
      "        # Modified form according to Shu & Zhao (2013)\n",
      "        x_hist[n-1, :] = data[0, ((sample_n - sub_samples) - timelag *\n",
      "                                  (n-1) - 2):(sample_n - timelag * (n-1) - 2)]\n",
      "    for m in range(1, (l+1)):\n",
      "        y_hist[m-1:, :] = data[1, ((sample_n - sub_samples) - timelag * (m) - 1):\n",
      "                               (sample_n - timelag * (m) - 1)]\n",
      "\n",
      "    return x_pred, x_hist, y_hist\n"
     ],
     "language": "python",
     "metadata": {},
     "outputs": [],
     "prompt_number": 273
    },
    {
     "cell_type": "code",
     "collapsed": false,
     "input": [
      "def pdfcalcs(x_pred, x_hist, y_hist):\n",
      "    \"\"\"Calculates the PDFs required to calculate transfer entropy.\n",
      "\n",
      "    Currently only supports k = 1; l = 1\n",
      "\n",
      "    \"\"\"\n",
      "    # TODO: Generalize for k and l\n",
      "\n",
      "    # Get dimensions of vectors\n",
      "#    k = np.size(x_hist[:, 1])\n",
      "#    l = np.size(y_hist[:, 1])\n",
      "\n",
      "    # Calculate p(x_{i+h}, x_i, y_i)\n",
      "    data_1 = np.vstack([x_pred, x_hist[0, :], y_hist[0, :]])\n",
      "    pdf_1 = stats.gaussian_kde(data_1, 'silverman')\n",
      "\n",
      "    # Calculate p(x_i, y_i)\n",
      "    data_2 = np.vstack([x_hist[0, :], y_hist[0, :]])\n",
      "    pdf_2 = stats.gaussian_kde(data_2, 'silverman')\n",
      "\n",
      "    # Calculate p(x_{i+h}, x_i)\n",
      "    data_3 = np.vstack([x_pred, x_hist[0, :]])\n",
      "    pdf_3 = stats.gaussian_kde(data_3, 'silverman')\n",
      "\n",
      "    # Calculate p(x_i)\n",
      "    data_4 = x_hist[0, :]\n",
      "    pdf_4 = stats.gaussian_kde(data_4, 'silverman')\n",
      "\n",
      "    return pdf_1, pdf_2, pdf_3, pdf_4"
     ],
     "language": "python",
     "metadata": {},
     "outputs": [],
     "prompt_number": 274
    },
    {
     "cell_type": "code",
     "collapsed": false,
     "input": [
      "def te_elementcalc(pdf_1, pdf_2, pdf_3, pdf_4, x_pred_val,\n",
      "                   x_hist_val, y_hist_val):\n",
      "    \"\"\"Calculate elements for summation for a specific set of coordinates\"\"\"\n",
      "\n",
      "\n",
      "\n",
      "    # Function evaluations\n",
      "    term1 = pdf_1([x_pred_val, x_hist_val, y_hist_val])\n",
      "    term2 = pdf_2([x_hist_val, y_hist_val])\n",
      "    term3 = pdf_3([x_pred_val, x_hist_val])\n",
      "    term4 = pdf_4([x_hist_val])\n",
      "\n",
      "    logterm_num = (term1 / term2)\n",
      "    logterm_den = (term3 / term4)\n",
      "    coeff = term1\n",
      "    sum_element = coeff * np.log(logterm_num / logterm_den)\n",
      "    \n",
      "    #print sum_element\n",
      "    \n",
      "    # Need to find a proper way to correct for cases when PDFs return nan or inf\n",
      "    # Most of the PDF issues are associated with the x_hist values being\n",
      "    # very similar to the x_pred values\n",
      "    # Some very small negative values are sometimes returned\n",
      "\n",
      "    if str(sum_element[0]) == 'nan' or sum_element < 0 or str(sum_element[0]) == 'inf':\n",
      "        sum_element = 0\n",
      "\n",
      "    return sum_element"
     ],
     "language": "python",
     "metadata": {},
     "outputs": [],
     "prompt_number": 275
    },
    {
     "cell_type": "code",
     "collapsed": false,
     "input": [
      "def te_calc(x_pred, x_hist, y_hist):\n",
      "    \"\"\"Calculates the transfer entropy between two variables from a set of\n",
      "    vectors already calculated.\n",
      "\n",
      "    ampbins is the number of amplitude bins to use over each variable\n",
      "\n",
      "    \"\"\"\n",
      "\n",
      "    # First do an example for the case of k = l = 1\n",
      "    # TODO: Sum loops to allow for a general case\n",
      "\n",
      "    # Divide the range of each variable into amplitude bins to sum over\n",
      "    \n",
      "    # TODO: Will make this general\n",
      "\n",
      "    x_pred_min = x_pred.min()\n",
      "    x_pred_max = x_pred.max()\n",
      "    x_hist_min = x_hist.min()\n",
      "    x_hist_max = x_hist.max()\n",
      "    y_hist_min = y_hist.min()\n",
      "    y_hist_max = y_hist.max()\n",
      "    \n",
      "    x_pred_range = x_pred_max - x_pred_min\n",
      "    x_hist_range = x_hist_max - x_hist_min\n",
      "    y_hist_range = y_hist_max - y_hist_min\n",
      "\n",
      "    # Calculate PDFs for all combinations required\n",
      "    [pdf_1, pdf_2, pdf_3, pdf_4] = pdfcalcs(x_pred, x_hist, y_hist)\n",
      "    \n",
      "    def integrand(x):\n",
      "        s1 = x[0]\n",
      "        s2 = x[1]\n",
      "        s3 = x[2]\n",
      "    \n",
      "        return te_elementcalc(pdf_1, pdf_2, pdf_3, pdf_4,\n",
      "                          s1, s2, s3)\n",
      "    def sampler():\n",
      "        while True:\n",
      "            s1 = random.uniform(x_pred_min, x_pred_max)\n",
      "            s2 = random.uniform(x_hist_min, x_hist_max)\n",
      "            s3 = random.uniform(y_hist_min, y_hist_max)\n",
      "            yield(s1, s2, s3)\n",
      "    \n",
      "    domainsize = x_pred_range * x_hist_range * y_hist_range\n",
      "    \n",
      "    # Do triple integration using scipy.integrate.tplquad\n",
      "    # Also do a version using mcint\n",
      "    # See this for higher orders:\n",
      "    # http://stackoverflow.com/questions/14071704/integrating-a-multidimensional-integral-in-scipy\n",
      "    \n",
      "    for nmc in [1000, 10000]:\n",
      "        random.seed(1)    \n",
      "        result, error = mcint.integrate(integrand, sampler(), measure=domainsize, n = nmc)\n",
      "        \n",
      "        print \"Using n = \", nmc\n",
      "        print \"Result = \", result\n",
      "    return result"
     ],
     "language": "python",
     "metadata": {},
     "outputs": [],
     "prompt_number": 276
    },
    {
     "cell_type": "code",
     "collapsed": false,
     "input": [
      "def getdata(samples, delay):\n",
      "    \"\"\"Get dataset for testing.\n",
      "\n",
      "    Select to generate each run or import an existing dataset.\n",
      "\n",
      "    \"\"\"\n",
      "\n",
      "    # Generate autoregressive delayed data vectors internally\n",
      "    data = autogen(samples, delay)\n",
      "\n",
      "    # Alternatively, import data from file\n",
      "#    autoregx = loadtxt('autoregx_data.csv')\n",
      "#    autoregy = loadtxt('autoregy_data.csv')\n",
      "\n",
      "    return data"
     ],
     "language": "python",
     "metadata": {},
     "outputs": [],
     "prompt_number": 277
    },
    {
     "cell_type": "code",
     "collapsed": false,
     "input": [
      "def calculate_te(delay, timelag, samples, sub_samples, ampbins, k=1, l=1):\n",
      "    \"\"\"Calculates the transfer entropy for a specific timelag (equal to\n",
      "    prediction horison) for a set of autoregressive data.\n",
      "\n",
      "    sub_samples is the amount of samples in the dataset used to calculate the\n",
      "    transfer entropy between two vectors (taken from the end of the dataset).\n",
      "    sub_samples <= samples\n",
      "\n",
      "    Currently only supports k = 1; l = 1;\n",
      "\n",
      "    You can search through a set of timelags in an attempt to identify the\n",
      "    original delay.\n",
      "    The transfer entropy should have a maximum value when timelag = delay\n",
      "    used to generate the autoregressive dataset.\n",
      "\n",
      "    \"\"\"\n",
      "    # Get autoregressive datasets\n",
      "    data = getdata(samples, delay)\n",
      "\n",
      "    [x_pred, x_hist, y_hist] = vectorselection(data, timelag,\n",
      "                                               sub_samples, k, l)\n",
      "\n",
      "    transentropy = te_calc(x_pred, x_hist, y_hist, ampbins)\n",
      "\n",
      "    return transentropy"
     ],
     "language": "python",
     "metadata": {},
     "outputs": [],
     "prompt_number": 278
    },
    {
     "cell_type": "code",
     "collapsed": false,
     "input": [
      "# Calculate transfer entropy\n",
      "# Delay = 4\n",
      "delay = 4\n",
      "DATA = getdata(3000, delay)"
     ],
     "language": "python",
     "metadata": {},
     "outputs": [],
     "prompt_number": 279
    },
    {
     "cell_type": "code",
     "collapsed": false,
     "input": [
      "# Timelag = 1\n",
      "[X_PRED_1, X_HIST_1, Y_HIST_1] = vectorselection(DATA, 1, 2000)\n",
      "# Timelag = 2\n",
      "[X_PRED_2, X_HIST_2, Y_HIST_2] = vectorselection(DATA, 2, 2000)\n",
      "# Timelag = 3\n",
      "[X_PRED_3, X_HIST_3, Y_HIST_3] = vectorselection(DATA, 3, 2000)\n",
      "# Timelag = 4\n",
      "[X_PRED_4, X_HIST_4, Y_HIST_4] = vectorselection(DATA, 4, 2000)\n",
      "# Timelag = 5\n",
      "[X_PRED_5, X_HIST_5, Y_HIST_5] = vectorselection(DATA, 5, 2000)\n",
      "# Timelag = 6\n",
      "[X_PRED_6, X_HIST_6, Y_HIST_6] = vectorselection(DATA, 6, 2000)\n",
      "# Timelag = 7\n",
      "[X_PRED_7, X_HIST_7, Y_HIST_7] = vectorselection(DATA, 7, 2000)\n",
      "# Timelag = 8\n",
      "[X_PRED_8, X_HIST_8, Y_HIST_8] = vectorselection(DATA, 8, 2000)\n",
      "# Timelag = 9\n",
      "[X_PRED_9, X_HIST_9, Y_HIST_9] = vectorselection(DATA, 9, 2000)\n",
      "# Timelag = 10\n",
      "[X_PRED_10, X_HIST_10, Y_HIST_10] = vectorselection(DATA, 10, 2000)"
     ],
     "language": "python",
     "metadata": {},
     "outputs": [],
     "prompt_number": 280
    },
    {
     "cell_type": "code",
     "collapsed": false,
     "input": [
      "TRANSENTROPY_1 = te_calc(X_PRED_1, X_HIST_1, Y_HIST_1)\n",
      "TRANSENTROPY_2 = te_calc(X_PRED_2, X_HIST_2, Y_HIST_2)\n",
      "TRANSENTROPY_3 = te_calc(X_PRED_3, X_HIST_3, Y_HIST_3)\n",
      "TRANSENTROPY_4 = te_calc(X_PRED_4, X_HIST_4, Y_HIST_4)\n",
      "TRANSENTROPY_5 = te_calc(X_PRED_5, X_HIST_5, Y_HIST_5)\n",
      "TRANSENTROPY_6 = te_calc(X_PRED_6, X_HIST_6, Y_HIST_6)\n",
      "TRANSENTROPY_7 = te_calc(X_PRED_7, X_HIST_7, Y_HIST_7)\n",
      "TRANSENTROPY_8 = te_calc(X_PRED_8, X_HIST_8, Y_HIST_8)\n",
      "TRANSENTROPY_9 = te_calc(X_PRED_9, X_HIST_9, Y_HIST_9)\n",
      "TRANSENTROPY_10 = te_calc(X_PRED_10, X_HIST_10, Y_HIST_10)"
     ],
     "language": "python",
     "metadata": {},
     "outputs": [
      {
       "output_type": "stream",
       "stream": "stdout",
       "text": [
        "Using n =  1000\n",
        "Result =  [ 0.07924228]\n",
        "Using n = "
       ]
      },
      {
       "output_type": "stream",
       "stream": "stdout",
       "text": [
        " 10000\n",
        "Result =  [ 0.06176936]\n",
        "Using n = "
       ]
      },
      {
       "output_type": "stream",
       "stream": "stdout",
       "text": [
        " 1000\n",
        "Result =  [ 0.06376347]\n",
        "Using n = "
       ]
      },
      {
       "output_type": "stream",
       "stream": "stdout",
       "text": [
        " 10000\n",
        "Result =  [ 0.06036839]\n",
        "Using n = "
       ]
      },
      {
       "output_type": "stream",
       "stream": "stdout",
       "text": [
        " 1000\n",
        "Result =  [ 0.06371267]\n",
        "Using n = "
       ]
      },
      {
       "output_type": "stream",
       "stream": "stdout",
       "text": [
        " 10000\n",
        "Result =  [ 0.06156965]\n",
        "Using n = "
       ]
      },
      {
       "output_type": "stream",
       "stream": "stdout",
       "text": [
        " 1000\n",
        "Result =  [ 0.58466021]\n",
        "Using n = "
       ]
      },
      {
       "output_type": "stream",
       "stream": "stdout",
       "text": [
        " 10000\n",
        "Result =  [ 0.95004648]\n",
        "Using n = "
       ]
      },
      {
       "output_type": "stream",
       "stream": "stdout",
       "text": [
        " 1000\n",
        "Result =  [ 0.08286985]\n",
        "Using n = "
       ]
      },
      {
       "output_type": "stream",
       "stream": "stdout",
       "text": [
        " 10000\n",
        "Result =  [ 0.06508061]\n",
        "Using n = "
       ]
      },
      {
       "output_type": "stream",
       "stream": "stdout",
       "text": [
        " 1000\n",
        "Result =  [ 0.05563199]\n",
        "Using n = "
       ]
      },
      {
       "output_type": "stream",
       "stream": "stdout",
       "text": [
        " 10000\n",
        "Result =  [ 0.06324555]\n",
        "Using n = "
       ]
      },
      {
       "output_type": "stream",
       "stream": "stdout",
       "text": [
        " 1000\n",
        "Result =  [ 0.05904862]\n",
        "Using n = "
       ]
      },
      {
       "output_type": "stream",
       "stream": "stdout",
       "text": [
        " 10000\n",
        "Result =  [ 0.05974121]\n",
        "Using n = "
       ]
      },
      {
       "output_type": "stream",
       "stream": "stdout",
       "text": [
        " 1000\n",
        "Result =  [ 0.07609018]\n",
        "Using n = "
       ]
      },
      {
       "output_type": "stream",
       "stream": "stdout",
       "text": [
        " 10000\n",
        "Result =  [ 0.06836161]\n",
        "Using n = "
       ]
      },
      {
       "output_type": "stream",
       "stream": "stdout",
       "text": [
        " 1000\n",
        "Result =  [ 0.06887044]\n",
        "Using n = "
       ]
      },
      {
       "output_type": "stream",
       "stream": "stdout",
       "text": [
        " 10000\n",
        "Result =  [ 0.06649742]\n",
        "Using n = "
       ]
      },
      {
       "output_type": "stream",
       "stream": "stdout",
       "text": [
        " 1000\n",
        "Result =  [ 0.06103913]\n",
        "Using n = "
       ]
      },
      {
       "output_type": "stream",
       "stream": "stdout",
       "text": [
        " 10000\n",
        "Result =  [ 0.06786837]\n"
       ]
      }
     ],
     "prompt_number": 281
    },
    {
     "cell_type": "code",
     "collapsed": false,
     "input": [
      "ENTROPIES = [TRANSENTROPY_1, TRANSENTROPY_2, TRANSENTROPY_3, TRANSENTROPY_4, TRANSENTROPY_5, TRANSENTROPY_6,\n",
      "             TRANSENTROPY_7, TRANSENTROPY_8, TRANSENTROPY_9, TRANSENTROPY_10]\n",
      "ENTROPIES"
     ],
     "language": "python",
     "metadata": {},
     "outputs": [
      {
       "output_type": "pyout",
       "prompt_number": 282,
       "text": [
        "[array([ 0.06176936]),\n",
        " array([ 0.06036839]),\n",
        " array([ 0.06156965]),\n",
        " array([ 0.95004648]),\n",
        " array([ 0.06508061]),\n",
        " array([ 0.06324555]),\n",
        " array([ 0.05974121]),\n",
        " array([ 0.06836161]),\n",
        " array([ 0.06649742]),\n",
        " array([ 0.06786837])]"
       ]
      }
     ],
     "prompt_number": 282
    },
    {
     "cell_type": "code",
     "collapsed": false,
     "input": [
      "ENTROPIES[delay-1]"
     ],
     "language": "python",
     "metadata": {},
     "outputs": [
      {
       "output_type": "pyout",
       "prompt_number": 283,
       "text": [
        "array([ 0.95004648])"
       ]
      }
     ],
     "prompt_number": 283
    },
    {
     "cell_type": "code",
     "collapsed": false,
     "input": [
      "max(ENTROPIES)"
     ],
     "language": "python",
     "metadata": {},
     "outputs": [
      {
       "output_type": "pyout",
       "prompt_number": 284,
       "text": [
        "array([ 0.95004648])"
       ]
      }
     ],
     "prompt_number": 284
    },
    {
     "cell_type": "code",
     "collapsed": false,
     "input": [
      "#import unittest\n",
      "#assertEqual(ENTROPIES[delay-1], max(ENTROPIES))"
     ],
     "language": "python",
     "metadata": {},
     "outputs": [],
     "prompt_number": 285
    }
   ],
   "metadata": {}
  }
 ]
}