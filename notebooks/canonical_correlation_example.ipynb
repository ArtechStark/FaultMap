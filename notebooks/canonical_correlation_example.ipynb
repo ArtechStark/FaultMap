{
 "metadata": {
  "name": "canonical_correlation_example"
 },
 "nbformat": 3,
 "nbformat_minor": 0,
 "worksheets": [
  {
   "cells": [
    {
     "cell_type": "code",
     "collapsed": false,
     "input": [
      "# Canonical correlation example after Rahman2011"
     ],
     "language": "python",
     "metadata": {},
     "outputs": [],
     "prompt_number": 55
    },
    {
     "cell_type": "code",
     "collapsed": false,
     "input": [
      "import numpy as np"
     ],
     "language": "python",
     "metadata": {},
     "outputs": [],
     "prompt_number": 56
    },
    {
     "cell_type": "code",
     "collapsed": false,
     "input": [
      "# Equation 16"
     ],
     "language": "python",
     "metadata": {},
     "outputs": [],
     "prompt_number": 57
    },
    {
     "cell_type": "code",
     "collapsed": false,
     "input": [
      "def relative_importance_ccv(ccvector):\n",
      "    \"\"\"Implementation of Eq. 16 in Rahman2011.\n",
      "    Calculates the relative importance scores based on a vector of canonical correlation values.\n",
      "    \"\"\"\n",
      "    max_ccv = max(ccvector)\n",
      "    scores = np.zeros_like(ccvector)\n",
      "    for i in range(len(ccvector)):\n",
      "        scores[i] = ((ccvector[i]) / max_ccv) * 100\n",
      "    return scores"
     ],
     "language": "python",
     "metadata": {},
     "outputs": [],
     "prompt_number": 58
    },
    {
     "cell_type": "code",
     "collapsed": false,
     "input": [
      "CCVECTOR = [0.1450, 0.1854, 0.2083]"
     ],
     "language": "python",
     "metadata": {},
     "outputs": [],
     "prompt_number": 59
    },
    {
     "cell_type": "code",
     "collapsed": false,
     "input": [
      "SCORES_CC = relative_importance(CCVECTOR)"
     ],
     "language": "python",
     "metadata": {},
     "outputs": [],
     "prompt_number": 60
    },
    {
     "cell_type": "code",
     "collapsed": false,
     "input": [
      "SCORES_CC"
     ],
     "language": "python",
     "metadata": {},
     "outputs": [
      {
       "output_type": "pyout",
       "prompt_number": 61,
       "text": [
        "array([  69.61113778,   89.006241  ,  100.        ])"
       ]
      }
     ],
     "prompt_number": 61
    },
    {
     "cell_type": "code",
     "collapsed": false,
     "input": [
      "# Equation 19"
     ],
     "language": "python",
     "metadata": {},
     "outputs": [],
     "prompt_number": 62
    },
    {
     "cell_type": "code",
     "collapsed": false,
     "input": [
      "def relative_importance_ie(iematrix):\n",
      "    \"\"\"Implementation of Eq. 20 in Rahman2011.\n",
      "    Calculates the relative importance scores based on an integrated\n",
      "    error loop interaction matrix as defined in Eq. 19 in Rahman2011\n",
      "    \"\"\"\n",
      "    # Get the dimension of interaction matrix\n",
      "    scores = np.zeros_like(IEMATRIX[0])\n",
      "    colsum = np.zeros_like(scores)\n",
      "    for i in range(len(colsum)):\n",
      "        colsum[i] = sum(iematrix[i])\n",
      "    maxval = max(colsum)\n",
      "    for i in range(len(scores)):\n",
      "        scores[i] = colsum[i] / maxval\n",
      "    return scores"
     ],
     "language": "python",
     "metadata": {},
     "outputs": [],
     "prompt_number": 78
    },
    {
     "cell_type": "code",
     "collapsed": false,
     "input": [
      "IEMATRIX = [[1, 0.462, 0.053], [1.26, 1, 0.179], [8.127, 2.55, 1]]"
     ],
     "language": "python",
     "metadata": {},
     "outputs": [],
     "prompt_number": 79
    },
    {
     "cell_type": "code",
     "collapsed": false,
     "input": [
      "SCORES_IE = relative_importance_ie(IEMATRIX)"
     ],
     "language": "python",
     "metadata": {},
     "outputs": [],
     "prompt_number": 80
    },
    {
     "cell_type": "code",
     "collapsed": false,
     "input": [
      "SCORES_IE"
     ],
     "language": "python",
     "metadata": {},
     "outputs": [
      {
       "output_type": "pyout",
       "prompt_number": 81,
       "text": [
        "array([ 0.12974223,  0.20887214,  1.        ])"
       ]
      }
     ],
     "prompt_number": 81
    },
    {
     "cell_type": "code",
     "collapsed": false,
     "input": [],
     "language": "python",
     "metadata": {},
     "outputs": [],
     "prompt_number": 74
    },
    {
     "cell_type": "code",
     "collapsed": false,
     "input": [],
     "language": "python",
     "metadata": {},
     "outputs": [
      {
       "output_type": "pyout",
       "prompt_number": 75,
       "text": [
        "8.127"
       ]
      }
     ],
     "prompt_number": 75
    },
    {
     "cell_type": "code",
     "collapsed": false,
     "input": [],
     "language": "python",
     "metadata": {},
     "outputs": []
    }
   ],
   "metadata": {}
  }
 ]
}