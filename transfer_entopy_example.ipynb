{
 "metadata": {
  "name": "transfer_entopy_example"
 },
 "nbformat": 3,
 "nbformat_minor": 0,
 "worksheets": [
  {
   "cells": [
    {
     "cell_type": "code",
     "collapsed": false,
     "input": [
      "from scipy import stats\n",
      "import numpy as np\n",
      "from numpy import vstack"
     ],
     "language": "python",
     "metadata": {},
     "outputs": [],
     "prompt_number": 95
    },
    {
     "cell_type": "code",
     "collapsed": false,
     "input": [
      "def autogen(samples, delay):\n",
      "    \"\"\"Generate an autoregressive set of vectors.\"\"\"\n",
      "\n",
      "    source = np.random.randn(samples + delay + 1)\n",
      "    pred = np.zeros_like(source)\n",
      "\n",
      "    for i in range(delay, len(source)):\n",
      "        pred[i] = pred[i - 1] + source[i - delay]\n",
      "\n",
      "    pred = pred[delay:-1]\n",
      "    source = source[delay:-1]\n",
      "\n",
      "    data = vstack([pred, source])\n",
      "\n",
      "    return data"
     ],
     "language": "python",
     "metadata": {},
     "outputs": [],
     "prompt_number": 96
    },
    {
     "cell_type": "code",
     "collapsed": false,
     "input": [
      "def vectorselection(data, timelag, sub_samples, k=1, l=1):\n",
      "    \"\"\"Generates sets of vectors for calculating transfer entropy.\n",
      "\n",
      "    For notation references see Shu2013.\n",
      "\n",
      "    Takes into account the time lag (number of samples between vectors of the\n",
      "    same variable).\n",
      "\n",
      "    In this application the prediction horizon (h) is set to equal\n",
      "    to the time lag.\n",
      "\n",
      "    The first vector in the data array should be the samples of the variable\n",
      "    to be predicted (x) while the second vector should be sampled of the vector\n",
      "    used to make the prediction (y).\n",
      "\n",
      "    sub_samples is the amount of samples in the dataset used to calculate the\n",
      "    transfer entropy between two vectors.\n",
      "    The required number of samples is extracted from the end of the vector.\n",
      "    If the vector is longer than the number of samples specified plus the\n",
      "    desired time lag then the remained of the data will be discarded.\n",
      "    sub_samples <= samples\n",
      "\n",
      "\n",
      "    k refers to the dimension of the historical data to be predicted (x)\n",
      "\n",
      "    l refers to the dimension of the historical data used\n",
      "    to do the prediction (y)\n",
      "\n",
      "    \"\"\"\n",
      "    _, sample_n = data.shape\n",
      "    x_pred = data[0, sample_n-sub_samples-1:-1]\n",
      "\n",
      "    x_hist = np.zeros((k, sub_samples))\n",
      "    y_hist = np.zeros((l, sub_samples))\n",
      "\n",
      "    for n in range(1, (k+1)):\n",
      "        # Original form according to Bauer (2007)\n",
      "#        x_hist[n-1, :] = data[0, ((sample_n - samples) - timelag * n):\n",
      "#                               (sample_n - timelag * n)]\n",
      "        # Modified form according to Shu & Zhao (2013)\n",
      "    # There was big blunders here!!\n",
      "    # Be careful of not destroying the intent by selecting vectors wrong!!\n",
      "        x_hist[n-1, :] = data[0, ((sample_n - sub_samples) - timelag *\n",
      "                                  (n-1) - 2):(sample_n - timelag * (n-1) - 2)]\n",
      "    for m in range(1, (l+1)):\n",
      "        y_hist[m-1:, :] = data[1, ((sample_n - sub_samples) - timelag * (m-1) - 1):\n",
      "                               (sample_n - timelag * (m-1) - 1)]\n",
      "\n",
      "#    for n in range(1, (k+1)):\n",
      "#        x_hist = data[0, ((sample_n - samples) - timelag * n):\n",
      "#                            (sample_n - timelag * n)]\n",
      "#    for m in range(1, (l+1)):\n",
      "#        y_hist = data[1, ((sample_n - samples) - timelag * m):\n",
      "#                            (sample_n - timelag * m)]\n",
      "\n",
      "    return x_pred, x_hist, y_hist\n"
     ],
     "language": "python",
     "metadata": {},
     "outputs": [],
     "prompt_number": 97
    },
    {
     "cell_type": "code",
     "collapsed": false,
     "input": [
      "def pdfcalcs(x_pred, x_hist, y_hist):\n",
      "    \"\"\"Calculates the PDFs required to calculate transfer entropy.\n",
      "\n",
      "    Currently only supports k = 1; l = 1\n",
      "\n",
      "    \"\"\"\n",
      "    # TODO: Generalize for k and l\n",
      "\n",
      "    # Get dimensions of vectors\n",
      "#    k = np.size(x_hist[:, 1])\n",
      "#    l = np.size(y_hist[:, 1])\n",
      "\n",
      "    # Calculate p(x_{i+h}, x_i, y_i)\n",
      "    data_1 = np.vstack([x_pred, x_hist[0, :], y_hist[0, :]])\n",
      "    pdf_1 = stats.gaussian_kde(data_1, 'silverman')\n",
      "\n",
      "    # Calculate p(x_i, y_i)\n",
      "    data_2 = np.vstack([x_hist[0, :], y_hist[0, :]])\n",
      "    pdf_2 = stats.gaussian_kde(data_2, 'silverman')\n",
      "\n",
      "    # Calculate p(x_{i+h}, x_i)\n",
      "    data_3 = np.vstack([x_pred, x_hist[0, :]])\n",
      "    pdf_3 = stats.gaussian_kde(data_3, 'silverman')\n",
      "\n",
      "    # Calculate p(x_i)\n",
      "    data_4 = x_hist[0, :]\n",
      "    pdf_4 = stats.gaussian_kde(data_4, 'silverman')\n",
      "\n",
      "    return pdf_1, pdf_2, pdf_3, pdf_4"
     ],
     "language": "python",
     "metadata": {},
     "outputs": [],
     "prompt_number": 98
    },
    {
     "cell_type": "code",
     "collapsed": false,
     "input": [
      "def te_elementcalc(pdf_1, pdf_2, pdf_3, pdf_4, x_pred_val,\n",
      "                   x_hist_val, y_hist_val):\n",
      "    \"\"\"Calculate elements for summation for a specific set of coordinates\"\"\"\n",
      "\n",
      "    # Need to find a proper way to correct for cases when PDFs return 0\n",
      "    # Most of the PDF issues are associated with the x_hist values being\n",
      "    # very similar to the x_pred values\n",
      "    # Some very small negative values are sometimes returned\n",
      "\n",
      "    # Function evaluations\n",
      "    term1 = pdf_1([x_pred_val, x_hist_val, y_hist_val])\n",
      "    term2 = pdf_2([x_hist_val, y_hist_val])\n",
      "    term3 = pdf_3([x_pred_val, x_hist_val])\n",
      "    term4 = pdf_4([x_hist_val])\n",
      "#    print term1, term2, term3, term4\n",
      "\n",
      "    # Assign zero value if nan is returned\n",
      "\n",
      "#    print term1, term2, term3, term4\n",
      "#    if term1 == 0 or term2 == 0 or term3 == 0 or term4 == 0:\n",
      "#        sum_element = 0\n",
      "#        print term1, term2, term3, term4\n",
      "#\n",
      "#    else:\n",
      "#        logterm_num = (term1 / term2)\n",
      "#        logterm_den = (term3 / term4)\n",
      "#        coeff = term1\n",
      "#        sum_element = coeff * np.log(logterm_num / logterm_den)\n",
      "#        print np.log(logterm_num / logterm_den)\n",
      "\n",
      "    logterm_num = (term1 / term2)\n",
      "    logterm_den = (term3 / term4)\n",
      "    coeff = term1\n",
      "    sum_element = coeff * np.log(logterm_num / logterm_den)\n",
      "\n",
      "    if sum_element == np.nan:\n",
      "        sum_element = 0\n",
      "\n",
      "    return sum_element"
     ],
     "language": "python",
     "metadata": {},
     "outputs": [],
     "prompt_number": 99
    },
    {
     "cell_type": "code",
     "collapsed": false,
     "input": [
      "def te_calc(x_pred, x_hist, y_hist, ampbins):\n",
      "    \"\"\"Calculates the transfer entropy between two variables from a set of\n",
      "    vectors already calculated.\n",
      "\n",
      "    ampbins is the number of amplitude bins to use over each variable\n",
      "\n",
      "    \"\"\"\n",
      "\n",
      "    # First do an example for the case of k = l = 1\n",
      "    # TODO: Sum loops to allow for a general case\n",
      "\n",
      "    # Divide the range of each variable into amplitude bins to sum over\n",
      "\n",
      "    x_pred_min = x_pred.min()\n",
      "    x_pred_max = x_pred.max()\n",
      "    x_hist_min = x_hist.min()\n",
      "    x_hist_max = x_hist.max()\n",
      "    y_hist_min = y_hist.min()\n",
      "    y_hist_max = y_hist.max()\n",
      "\n",
      "    x_pred_space = np.linspace(x_pred_min, x_pred_max, ampbins)\n",
      "    x_hist_space = np.linspace(x_hist_min, x_hist_max, ampbins)\n",
      "    y_hist_space = np.linspace(y_hist_min, y_hist_max, ampbins)\n",
      "\n",
      "    x_pred_diff = x_pred_space[1] - x_pred_space[0]\n",
      "    x_hist_diff = x_hist_space[1] - x_hist_space[0]\n",
      "    y_hist_diff = y_hist_space[1] - y_hist_space[0]\n",
      "\n",
      "    # Calculate PDFs for all combinations required\n",
      "    [pdf_1, pdf_2, pdf_3, pdf_4] = pdfcalcs(x_pred, x_hist, y_hist)\n",
      "\n",
      "    # Consecutive sums\n",
      "    # TODO: Make sure Riemann sum diff elements is handled correctly\n",
      "\n",
      "    tesum = 0\n",
      "#    tesum_old = -1\n",
      "#    sumelement_store = np.zeros(ampbins**3)\n",
      "    delement = x_pred_diff * x_hist_diff * y_hist_diff\n",
      "    print delement\n",
      "    for s1 in x_pred_space:\n",
      "#        print 's1', s1\n",
      "        for s2 in x_hist_space:\n",
      "#            print 's2', s2\n",
      "            for s3 in y_hist_space:\n",
      "#                print 's3', s3\n",
      "                sum_element = te_elementcalc(pdf_1, pdf_2, pdf_3, pdf_4,\n",
      "                                             s1, s2, s3)\n",
      "                tesum = tesum + sum_element\n",
      "                # Try to detect point at which the huge term enters\n",
      "                # For special case of data = np.vstack([puretf, original])\n",
      "                # and timelag = 1 and ampbins = 20\n",
      "                # Has to do with a huge value for PDF1 at a specific point\n",
      "#                if tesum / tesum_old < 0:\n",
      "#                    print s1, s2, s3\n",
      "#                    temp1 = pdf_1([s1, s2, s3])\n",
      "#                    temp2 = pdf_2([s2, s3])\n",
      "#                    temp3 = pdf_3([s1, s2])\n",
      "#                    temp4 = pdf_4([s2])\n",
      "#                    print temp1, temp2, temp3, temp4\n",
      "#                tesum_old = tesum\n",
      "#                print tesum\n",
      "#                sumelement_store[s1*s2*s3] = sum_element\n",
      "    tentropy = tesum * delement\n",
      "\n",
      "    # Using local sums\n",
      "    # (It does give the same result)\n",
      "\n",
      "#    sums3 = 0\n",
      "#    sums2 = 0\n",
      "#    sums1 = 0\n",
      "#    for s1 in x_pred_space:\n",
      "#        print s1\n",
      "#        sums2 = 0\n",
      "#        for s2 in x_hist_space:\n",
      "##            print s2\n",
      "#            sums3 = 0\n",
      "#            for s3 in y_hist_space:\n",
      "#                sum_element = tecalc(pdf_1, pdf_2, pdf_3, pdf_4, s1, s2, s3)\n",
      "#                sums3 = sums3 + sum_element\n",
      "#            sums2 = sums2 + sums3 * y_hist_diff\n",
      "#        sums1 = sums1 + sums2 * x_hist_diff\n",
      "#        te = sums1 * x_pred_diff\n",
      "\n",
      "    return tentropy"
     ],
     "language": "python",
     "metadata": {},
     "outputs": [],
     "prompt_number": 100
    },
    {
     "cell_type": "code",
     "collapsed": false,
     "input": [
      "def getdata(samples, delay):\n",
      "    \"\"\"Get dataset for testing.\n",
      "\n",
      "    Select to generate each run or import an existing dataset.\n",
      "\n",
      "    \"\"\"\n",
      "\n",
      "    # Generate autoregressive delayed data vectors internally\n",
      "    data = autogen(samples, delay)\n",
      "\n",
      "    # Alternatively, import data from file\n",
      "#    autoregx = loadtxt('autoregx_data.csv')\n",
      "#    autoregy = loadtxt('autoregy_data.csv')\n",
      "\n",
      "    return data"
     ],
     "language": "python",
     "metadata": {},
     "outputs": [],
     "prompt_number": 101
    },
    {
     "cell_type": "code",
     "collapsed": false,
     "input": [
      "def calculate_te(delay, timelag, samples, sub_samples, ampbins, k=1, l=1):\n",
      "    \"\"\"Calculates the transfer entropy for a specific timelag (equal to\n",
      "    prediction horison) for a set of autoregressive data.\n",
      "\n",
      "    sub_samples is the amount of samples in the dataset used to calculate the\n",
      "    transfer entropy between two vectors (taken from the end of the dataset).\n",
      "    sub_samples <= samples\n",
      "\n",
      "    Currently only supports k = 1; l = 1;\n",
      "\n",
      "    You can search through a set of timelags in an attempt to identify the\n",
      "    original delay.\n",
      "    The transfer entropy should have a maximum value when timelag = delay\n",
      "    used to generate the autoregressive dataset.\n",
      "\n",
      "    \"\"\"\n",
      "    # Get autoregressive datasets\n",
      "    data = getdata(samples, delay)\n",
      "\n",
      "    [x_pred, x_hist, y_hist] = vectorselection(data, timelag,\n",
      "                                               sub_samples, k, l)\n",
      "\n",
      "    #transentropy = te_calc(x_pred, x_hist, y_hist, ampbins)\n",
      "    transentropy = te_calc_custom(x_pred, x_hist, y_hist, ampbins)\n",
      "\n",
      "    return transentropy\n"
     ],
     "language": "python",
     "metadata": {},
     "outputs": [],
     "prompt_number": 102
    },
    {
     "cell_type": "code",
     "collapsed": false,
     "input": [
      "# The bandwidth selection tries to compute the inverse of the partial correlation matrix, which fails for this dataset.\n",
      "# Will attempt to implement the manual bandwidth selection code instead.\n",
      "# Manual PDF functions will be written"
     ],
     "language": "python",
     "metadata": {},
     "outputs": [],
     "prompt_number": 103
    },
    {
     "cell_type": "code",
     "collapsed": false,
     "input": [
      "# Generate data for tests\n",
      "DATA = getdata(100, 2)\n",
      "[X_PRED, X_HIST, Y_HIST] = vectorselection(DATA, 2, 5, 1, 1)\n",
      "DATA_1 = np.vstack([X_PRED, X_HIST[0, :], Y_HIST[0, :]])"
     ],
     "language": "python",
     "metadata": {},
     "outputs": [],
     "prompt_number": 104
    },
    {
     "cell_type": "code",
     "collapsed": false,
     "input": [
      "X_PRED"
     ],
     "language": "python",
     "metadata": {},
     "outputs": [
      {
       "output_type": "pyout",
       "prompt_number": 105,
       "text": [
        "array([ 13.30345309,  14.16115489,  13.81266476,  13.05289669,  12.37377211])"
       ]
      }
     ],
     "prompt_number": 105
    },
    {
     "cell_type": "code",
     "collapsed": false,
     "input": [
      "X_HIST\n"
     ],
     "language": "python",
     "metadata": {},
     "outputs": [
      {
       "output_type": "pyout",
       "prompt_number": 106,
       "text": [
        "array([[ 12.50499619,  13.30345309,  14.16115489,  13.81266476,\n",
        "         13.05289669]])"
       ]
      }
     ],
     "prompt_number": 106
    },
    {
     "cell_type": "code",
     "collapsed": false,
     "input": [
      "Y_HIST"
     ],
     "language": "python",
     "metadata": {},
     "outputs": [
      {
       "output_type": "pyout",
       "prompt_number": 107,
       "text": [
        "array([[-0.34849013, -0.75976808, -0.67912457, -0.80353224, -0.0731444 ]])"
       ]
      }
     ],
     "prompt_number": 107
    },
    {
     "cell_type": "code",
     "collapsed": false,
     "input": [
      "COVMATRIX_1 = np.cov([X_PRED, X_HIST[0, :], Y_HIST[0, :]])"
     ],
     "language": "python",
     "metadata": {},
     "outputs": [],
     "prompt_number": 108
    },
    {
     "cell_type": "code",
     "collapsed": false,
     "input": [
      "INV_COVMATRIX_1 = np.linalg.inv(COVMATRIX_1)"
     ],
     "language": "python",
     "metadata": {},
     "outputs": [],
     "prompt_number": 109
    },
    {
     "cell_type": "code",
     "collapsed": false,
     "input": [
      "COVMATRIX_2 = np.cov([X_PRED, Y_HIST[0, :], X_HIST[0, :],])\n",
      "COVMATRIX_2"
     ],
     "language": "python",
     "metadata": {},
     "outputs": [
      {
       "output_type": "pyout",
       "prompt_number": 110,
       "text": [
        "array([[ 0.47876614, -0.15716957,  0.13255854],\n",
        "       [-0.15716957,  0.09786868, -0.13142306],\n",
        "       [ 0.13255854, -0.13142306,  0.41876219]])"
       ]
      }
     ],
     "prompt_number": 110
    },
    {
     "cell_type": "code",
     "collapsed": false,
     "input": [
      "INV_COVMATRIX_2 = np.linalg.inv(COVMATRIX_2)"
     ],
     "language": "python",
     "metadata": {},
     "outputs": [],
     "prompt_number": 111
    },
    {
     "cell_type": "code",
     "collapsed": false,
     "input": [
      "PDF_1 = stats.gaussian_kde(DATA_1, 'silverman')"
     ],
     "language": "python",
     "metadata": {},
     "outputs": [],
     "prompt_number": 112
    },
    {
     "cell_type": "code",
     "collapsed": false,
     "input": [],
     "language": "python",
     "metadata": {},
     "outputs": [],
     "prompt_number": 114
    },
    {
     "cell_type": "code",
     "collapsed": false,
     "input": [],
     "language": "python",
     "metadata": {},
     "outputs": [],
     "prompt_number": 114
    },
    {
     "cell_type": "code",
     "collapsed": false,
     "input": [],
     "language": "python",
     "metadata": {},
     "outputs": []
    }
   ],
   "metadata": {}
  }
 ]
}